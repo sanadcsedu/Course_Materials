{
 "cells": [
  {
   "cell_type": "code",
   "execution_count": 4,
   "metadata": {},
   "outputs": [
    {
     "name": "stdout",
     "output_type": "stream",
     "text": [
      "[[-0.375   -0.1875 ]\n",
      " [-0.1875  -0.65625]]\n",
      "[-0.28125 -0.75   ]\n",
      "[[ 0 -1]\n",
      " [-1 -2]]\n",
      "[ 0.41421356 -2.41421356]\n",
      "[[0 0]\n",
      " [0 0]]\n",
      "[0. 0.]\n"
     ]
    }
   ],
   "source": [
    "import numpy as np\n",
    "\n",
    "A = np.array([[-3/8, -3/16],[-3/16, -21/32]])\n",
    "print(A)\n",
    "eigenvalues, eigenvectors = np.linalg.eig(A)\n",
    "print(eigenvalues)\n",
    "#print(eigenvectors)\n",
    "\n",
    "B = np.array([[0, -1],[-1, -2]])\n",
    "print(B)\n",
    "eigenvalues, eigenvectors = np.linalg.eig(B)\n",
    "print(eigenvalues)\n",
    "#print(eigenvectors)\n",
    "\n",
    "C = np.array([[0, 0],[0, 0]])\n",
    "print(C)\n",
    "eigenvalues, eigenvectors = np.linalg.eig(C)\n",
    "print(eigenvalues)\n",
    "#print(eigenvectors)"
   ]
  }
 ],
 "metadata": {
  "kernelspec": {
   "display_name": "Python 3",
   "language": "python",
   "name": "python3"
  },
  "language_info": {
   "codemirror_mode": {
    "name": "ipython",
    "version": 3
   },
   "file_extension": ".py",
   "mimetype": "text/x-python",
   "name": "python",
   "nbconvert_exporter": "python",
   "pygments_lexer": "ipython3",
   "version": "3.7.0"
  }
 },
 "nbformat": 4,
 "nbformat_minor": 2
}
